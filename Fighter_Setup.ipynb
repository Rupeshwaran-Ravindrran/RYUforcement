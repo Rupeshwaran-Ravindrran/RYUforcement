{
 "cells": [
  {
   "cell_type": "markdown",
   "metadata": {},
   "source": [
    "# **Setup Game Environment:**"
   ]
  },
  {
   "cell_type": "markdown",
   "metadata": {},
   "source": [
    "- pip install gym==0.21.0\n",
    "- pip install gym gym-retro\n",
    "- pip install importlib-metadata==4.13.0\n",
    "- python -m retro.import ."
   ]
  },
  {
   "cell_type": "code",
   "execution_count": 1,
   "metadata": {},
   "outputs": [],
   "source": [
    "#import retro: to run the game disk\n",
    "import retro\n",
    "#import time: to slow down game render time\n",
    "import time"
   ]
  },
  {
   "cell_type": "code",
   "execution_count": null,
   "metadata": {},
   "outputs": [],
   "source": [
    "retro.data.list_games()"
   ]
  },
  {
   "cell_type": "code",
   "execution_count": null,
   "metadata": {},
   "outputs": [],
   "source": [
    "#Setup game environment\n",
    "env = retro.make(game='StreetFighterIISpecialChampionEdition-Genesis')"
   ]
  },
  {
   "cell_type": "code",
   "execution_count": null,
   "metadata": {},
   "outputs": [],
   "source": [
    "env.action_space.sample()"
   ]
  },
  {
   "cell_type": "code",
   "execution_count": null,
   "metadata": {},
   "outputs": [],
   "source": [
    "#Try to run an instance of the game and observe the entity random actions:\n",
    "obs = env.reset()\n",
    "done = False\n",
    "for game in range(1):\n",
    "    while not done:\n",
    "        if done:\n",
    "            obs = env.reset()\n",
    "        env.render()\n",
    "        obs, reward, done, info = env.step(env.action_space.sample())\n",
    "        time.sleep(0.01)\n",
    "        print(reward)"
   ]
  },
  {
   "cell_type": "code",
   "execution_count": null,
   "metadata": {},
   "outputs": [],
   "source": [
    "#closes any running game environment\n",
    "env.close()"
   ]
  },
  {
   "cell_type": "code",
   "execution_count": null,
   "metadata": {},
   "outputs": [],
   "source": [
    "info"
   ]
  },
  {
   "cell_type": "markdown",
   "metadata": {},
   "source": [
    "# **Setup Learning environment for Training:**"
   ]
  },
  {
   "cell_type": "markdown",
   "metadata": {},
   "source": [
    "Data Preprocessing the observed environment:\n",
    "- Colour to grayscale\n",
    "- Resize the frame for effeciency\n",
    "- Calculate delta frame: change in subsequent frames\n",
    "- Tweak the reward function"
   ]
  },
  {
   "cell_type": "code",
   "execution_count": 45,
   "metadata": {},
   "outputs": [],
   "source": [
    "# Import environment base class for a wrapper\n",
    "from gym import Env\n",
    "# Import the space shapes for the environment\n",
    "from gym.spaces import MultiBinary, Box\n",
    "# Import numpy to calculate frame delta\n",
    "import numpy as np\n",
    "# Import opencv for grayscaling\n",
    "import cv2\n",
    "# Import matplotlib for plotting the image\n",
    "from matplotlib import pyplot as plt"
   ]
  },
  {
   "cell_type": "code",
   "execution_count": null,
   "metadata": {},
   "outputs": [],
   "source": [
    "plt.imshow(obs)"
   ]
  },
  {
   "cell_type": "code",
   "execution_count": 30,
   "metadata": {},
   "outputs": [],
   "source": [
    "# Create custom environment\n",
    "class StreetFighter(Env):\n",
    "    def __init__(self):\n",
    "        super().__init__()\n",
    "        # Specify action and observation space  \n",
    "        self.observation_space = Box(low=0, high=255, shape=(84, 84, 1), dtype=np.uint8)\n",
    "        self.action_space = MultiBinary(12)\n",
    "        # Startup an instance of the game\n",
    "        self.game = retro.make(game='StreetFighterIISpecialChampionEdition-Genesis', use_restricted_actions = retro.Actions.FILTERED)\n",
    "        # Define render_mode attribute\n",
    "        self.render_mode = 'human' \n",
    "    \n",
    "    def reset(self):\n",
    "        # Returning the first frame\n",
    "        obs = self.game.reset()\n",
    "        # Pass the observation to preprocess method\n",
    "        obs = self.preprocess(obs)\n",
    "        self.previous_frame = obs\n",
    "        # Create a attributr to hold the score delta\n",
    "        self.score = 0\n",
    "        return obs\n",
    "    \n",
    "    def preprocess(self, observation):\n",
    "        # Convert observation to Grayscale\n",
    "        gray = cv2.cvtColor(observation, cv2.COLOR_BGR2GRAY)\n",
    "        # Resize the observation Space\n",
    "        resize = cv2.resize(gray, (84, 84), interpolation = cv2.INTER_CUBIC)\n",
    "        # Add the channels value\n",
    "        channels = np.reshape(resize, (84,84,1))\n",
    "        return channels\n",
    "        \n",
    "    def step(self, action):\n",
    "        # Take a step\n",
    "        obs, reward, done, info = self.game.step(action)\n",
    "        obs = self.preprocess(obs)\n",
    "\n",
    "        # Frame delta\n",
    "        frame_delta = obs - self.previous_frame\n",
    "        self.previous_frame = obs\n",
    "\n",
    "        # Reshape the reward function\n",
    "        reward = info['score'] - self.score\n",
    "        self.score = info['score']\n",
    "\n",
    "        return frame_delta, reward, done, info\n",
    "\n",
    "    def render(self, *args, **kwargs):\n",
    "        self.game.render()\n",
    "\n",
    "    def close(self):\n",
    "        self.game.close()"
   ]
  },
  {
   "cell_type": "code",
   "execution_count": null,
   "metadata": {},
   "outputs": [],
   "source": [
    "# Create a new instance of the environment\n",
    "env = StreetFighter()"
   ]
  },
  {
   "cell_type": "code",
   "execution_count": null,
   "metadata": {},
   "outputs": [],
   "source": [
    "# Cross checking the shape of obserbation_space\n",
    "env.observation_space.shape"
   ]
  },
  {
   "cell_type": "code",
   "execution_count": null,
   "metadata": {},
   "outputs": [],
   "source": [
    "# Cross checking the shape of the action_space\n",
    "env.action_space.shape"
   ]
  },
  {
   "cell_type": "code",
   "execution_count": null,
   "metadata": {},
   "outputs": [],
   "source": [
    "#Try to run an instance of the game and observe the entity random actions:\n",
    "obs = env.reset()\n",
    "done = False\n",
    "for game in range(1):\n",
    "    while not done:\n",
    "        if done:\n",
    "            obs = env.reset()\n",
    "        env.render()\n",
    "        obs, reward, done, info = env.step(env.action_space.sample())\n",
    "        time.sleep(0.01)\n",
    "        if reward > 0:\n",
    "            print(reward)"
   ]
  },
  {
   "cell_type": "code",
   "execution_count": null,
   "metadata": {},
   "outputs": [],
   "source": [
    "# Validating frame delta\n",
    "obs = env.reset()\n",
    "obs, reward, done, info = env.step(env.action_space.sample())\n",
    "plt.imshow(cv2.cvtColor(obs, cv2.COLOR_BGR2RGB))"
   ]
  },
  {
   "cell_type": "markdown",
   "metadata": {},
   "source": [
    "# **Hyperparameter tuning:**"
   ]
  },
  {
   "cell_type": "markdown",
   "metadata": {},
   "source": [
    "Install required libraries for training:\n",
    "- pip install torch torchvision torchaudio --index-url https://download.pytorch.org/whl/cu118pip \n",
    "- pip install stable-baselines3[extra] optuna"
   ]
  },
  {
   "cell_type": "code",
   "execution_count": 31,
   "metadata": {},
   "outputs": [],
   "source": [
    "import os\n",
    "# Importing optimization framework - HPO\n",
    "import optuna\n",
    "# PPO algorithm for Reinforcement Learning\n",
    "from stable_baselines3 import PPO\n",
    "# Eval policy method for metric calculation\n",
    "from stable_baselines3.common.evaluation import evaluate_policy\n",
    "# Import the sb3 monitor for logging\n",
    "from stable_baselines3.common.monitor import Monitor\n",
    "# Import the vec wrappers to vectorize and frame stack\n",
    "from stable_baselines3.common.vec_env import DummyVecEnv, VecFrameStack"
   ]
  },
  {
   "cell_type": "code",
   "execution_count": 32,
   "metadata": {},
   "outputs": [],
   "source": [
    "# Setup directories for logs and models\n",
    "LOG_DIR = './logs/'\n",
    "OPT_DIR = './opt/'"
   ]
  },
  {
   "cell_type": "code",
   "execution_count": 39,
   "metadata": {},
   "outputs": [],
   "source": [
    "# Function to return test hyperparamenters - define the objective function\n",
    "\"\"\"def optimize_ppo(trial):\n",
    "    return{\n",
    "        'n_steps':trial.suggest_int('n_steps', 2048, 8192),\n",
    "        'gamma': trial.suggest_loguniform('gamma', 0.8, 0.9999),\n",
    "        'learning_rate': trial.suggest_loguniform('learning_rate', 1e-5, 1e-4),\n",
    "        'clip_range': trial.suggest_uniform('clip_range', 0.1, 0.4),\n",
    "        'gae_lambda': trial.suggest_uniform('gae_lambda', 0.8, 0.99)\n",
    "    }\"\"\"\n",
    "\n",
    "def optimize_ppo(trial):\n",
    "    try:\n",
    "        hyperparameters = {\n",
    "            'n_steps': trial.suggest_int('n_steps', 2048, 8192),\n",
    "            'gamma': trial.suggest_float('gamma', 0.8, 0.9999, log=True),\n",
    "            'learning_rate': trial.suggest_float('learning_rate', 1e-5, 1e-4, log=True),\n",
    "            'clip_range': trial.suggest_float('clip_range', 0.1, 0.4),\n",
    "            'gae_lambda': trial.suggest_float('gae_lambda', 0.8, 0.99)\n",
    "        }\n",
    "        print(\"Hyperparameters suggested:\", hyperparameters)\n",
    "        return hyperparameters\n",
    "    except Exception as e:\n",
    "        print(\"Error in hyperparameter suggestion:\", e)\n",
    "        return None\n"
   ]
  },
  {
   "cell_type": "code",
   "execution_count": 42,
   "metadata": {},
   "outputs": [],
   "source": [
    "# Run a training loop and return mean reward\n",
    "def optimize_agent(trial):\n",
    "    try:\n",
    "        model_params = optimize_ppo(trial)\n",
    "        if model_params is None:\n",
    "            raise ValueError(\"Model parameters cannot be None.\")\n",
    "        \n",
    "        # Create environment\n",
    "        env = StreetFighter()\n",
    "        env = Monitor(env, LOG_DIR)\n",
    "        env = DummyVecEnv([lambda: env])\n",
    "        env = VecFrameStack(env, 4, channels_order='last')  # Make sure observation space is compatible\n",
    "        \n",
    "        # Create algorithm\n",
    "        model = PPO('CnnPolicy', env, tensorboard_log=LOG_DIR, verbose=0, **model_params)\n",
    "        model.learn(total_timesteps=30000)\n",
    "        \n",
    "        # Evaluate model\n",
    "        mean_reward, _ = evaluate_policy(model, env, n_eval_episodes=1)\n",
    "        env.close()\n",
    "\n",
    "        SAVE_PATH = os.path.join(OPT_DIR, 'trial_{}_best_model'.format(trial.number))\n",
    "        model.save(SAVE_PATH)\n",
    "        return mean_reward\n",
    "    \n",
    "    except Exception as e:\n",
    "        print(\"Error during optimization:\", e)\n",
    "        return None\n"
   ]
  },
  {
   "cell_type": "code",
   "execution_count": 44,
   "metadata": {},
   "outputs": [
    {
     "name": "stderr",
     "output_type": "stream",
     "text": [
      "[I 2024-04-01 19:06:37,711] A new study created in memory with name: no-name-943e2a36-e90c-43f1-8ef3-04ae9101b06c\n"
     ]
    },
    {
     "name": "stdout",
     "output_type": "stream",
     "text": [
      "Hyperparameters suggested: {'n_steps': 5655, 'gamma': 0.9859996190543577, 'learning_rate': 7.96711746543737e-05, 'clip_range': 0.1206064656113395, 'gae_lambda': 0.9210014495830235}\n"
     ]
    },
    {
     "name": "stderr",
     "output_type": "stream",
     "text": [
      "[W 2024-04-01 19:06:37,954] Trial 0 failed with parameters: {'n_steps': 5655, 'gamma': 0.9859996190543577, 'learning_rate': 7.96711746543737e-05, 'clip_range': 0.1206064656113395, 'gae_lambda': 0.9210014495830235} because of the following error: The value None could not be cast to float..\n",
      "[W 2024-04-01 19:06:37,954] Trial 0 failed with value None.\n"
     ]
    },
    {
     "name": "stdout",
     "output_type": "stream",
     "text": [
      "Error during optimization: VecFrameStack only works with gym.spaces.Box and gym.spaces.Dict observation spaces\n"
     ]
    }
   ],
   "source": [
    "# Create the experiment\n",
    "study = optuna.create_study(direction='maximize')\n",
    "study.optimize(optimize_agent, n_trials=1, n_jobs=1)"
   ]
  }
 ],
 "metadata": {
  "kernelspec": {
   "display_name": ".fighter",
   "language": "python",
   "name": "python3"
  },
  "language_info": {
   "codemirror_mode": {
    "name": "ipython",
    "version": 3
   },
   "file_extension": ".py",
   "mimetype": "text/x-python",
   "name": "python",
   "nbconvert_exporter": "python",
   "pygments_lexer": "ipython3",
   "version": "3.8.10"
  }
 },
 "nbformat": 4,
 "nbformat_minor": 2
}
